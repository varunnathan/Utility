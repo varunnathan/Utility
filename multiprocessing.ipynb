{
 "cells": [
  {
   "cell_type": "code",
   "execution_count": 2,
   "metadata": {},
   "outputs": [],
   "source": [
    "import multiprocessing\n",
    "import time\n",
    "  \n",
    "def print_cube(num): \n",
    "    \"\"\" \n",
    "    function to print cube of given num \n",
    "    \"\"\"\n",
    "    print(\"Cube: {}\".format(num * num * num)) \n",
    "  \n",
    "def print_square(num): \n",
    "    \"\"\" \n",
    "    function to print square of given num \n",
    "    \"\"\"\n",
    "    print(\"Square: {}\".format(num * num)) "
   ]
  },
  {
   "cell_type": "code",
   "execution_count": 3,
   "metadata": {},
   "outputs": [
    {
     "name": "stdout",
     "output_type": "stream",
     "text": [
      "Cube: 1371742112478737997256519890260631\n",
      "Square: 12345679012320987654321\n",
      "time taken: 0.00\n"
     ]
    }
   ],
   "source": [
    "start = time.time()\n",
    "print_cube(111111111111)\n",
    "print_square(111111111111)\n",
    "print 'time taken: %0.2f' % (time.time() - start)"
   ]
  },
  {
   "cell_type": "code",
   "execution_count": 4,
   "metadata": {},
   "outputs": [
    {
     "name": "stdout",
     "output_type": "stream",
     "text": [
      "Square: 100\n",
      "Cube: 1000\n",
      "time taken: 0.02\n"
     ]
    }
   ],
   "source": [
    "start = time.time()\n",
    "p1 = multiprocessing.Process(target=print_square, args=(10, )) \n",
    "p2 = multiprocessing.Process(target=print_cube, args=(10, )) \n",
    "\n",
    "# starting process 1 \n",
    "p1.start() \n",
    "# starting process 2 \n",
    "p2.start() \n",
    "\n",
    "# wait until process 1 is finished \n",
    "p1.join() \n",
    "# wait until process 2 is finished \n",
    "p2.join()\n",
    "\n",
    "print 'time taken: %0.2f' % (time.time() - start)"
   ]
  },
  {
   "cell_type": "code",
   "execution_count": 5,
   "metadata": {},
   "outputs": [],
   "source": [
    "# sharing data between processes"
   ]
  },
  {
   "cell_type": "code",
   "execution_count": 6,
   "metadata": {},
   "outputs": [
    {
     "name": "stdout",
     "output_type": "stream",
     "text": [
      "start process\n",
      "Result(in process p1): [1, 4, 9, 16]\n",
      "wait until process ends\n",
      "Result(in main program): []\n"
     ]
    }
   ],
   "source": [
    "import multiprocessing\n",
    "\n",
    "result = []\n",
    "def square_list(my_lst):\n",
    "    global result\n",
    "    for num in my_lst:\n",
    "        result.append(num*num)\n",
    "    print(\"Result(in process p1): {}\".format(result))\n",
    "\n",
    "if __name__ == '__main__':\n",
    "    my_inp = [1,2,3,4]\n",
    "    p1 = multiprocessing.Process(target=square_list, args=(my_inp,))\n",
    "    print 'start process'\n",
    "    p1.start()\n",
    "    print 'wait until process ends'\n",
    "    p1.join()\n",
    "    print 'Result(in main program): {}'.format(result)"
   ]
  },
  {
   "cell_type": "markdown",
   "metadata": {},
   "source": [
    "Shared memory : multiprocessing module provides Array and Value objects to share data between processes.\n",
    "1. Array: a ctypes array allocated from shared memory.\n",
    "2. Value: a ctypes object allocated from shared memory."
   ]
  },
  {
   "cell_type": "code",
   "execution_count": 7,
   "metadata": {},
   "outputs": [
    {
     "name": "stdout",
     "output_type": "stream",
     "text": [
      "Result(in process p1): [1, 4, 9, 16]\n",
      "Sum of squares(in process p1): 30\n",
      "Result(in main program): [1, 4, 9, 16]\n",
      "Sum of squares(in main program): 30\n"
     ]
    }
   ],
   "source": [
    "import multiprocessing \n",
    "  \n",
    "def square_list(mylist, result, square_sum): \n",
    "    \"\"\" \n",
    "    function to square a given list \n",
    "    \"\"\"\n",
    "    # append squares of mylist to result array \n",
    "    for idx, num in enumerate(mylist): \n",
    "        result[idx] = num * num \n",
    "  \n",
    "    # square_sum value \n",
    "    square_sum.value = sum(result) \n",
    "  \n",
    "    # print result Array \n",
    "    print(\"Result(in process p1): {}\".format(result[:])) \n",
    "  \n",
    "    # print square_sum Value \n",
    "    print(\"Sum of squares(in process p1): {}\".format(square_sum.value)) \n",
    "  \n",
    "if __name__ == \"__main__\": \n",
    "    # input list \n",
    "    mylist = [1,2,3,4] \n",
    "  \n",
    "    # creating Array of int data type with space for 4 integers \n",
    "    result = multiprocessing.Array('i', 4) \n",
    "  \n",
    "    # creating Value of int data type \n",
    "    square_sum = multiprocessing.Value('i') \n",
    "  \n",
    "    # creating new process \n",
    "    p1 = multiprocessing.Process(target=square_list, args=(mylist, result, square_sum)) \n",
    "  \n",
    "    # starting process \n",
    "    p1.start() \n",
    "  \n",
    "    # wait until process is finished \n",
    "    p1.join() \n",
    "  \n",
    "    # print result array \n",
    "    print(\"Result(in main program): {}\".format(result[:])) \n",
    "  \n",
    "    # print square_sum Value \n",
    "    print(\"Sum of squares(in main program): {}\".format(square_sum.value))"
   ]
  },
  {
   "cell_type": "markdown",
   "metadata": {},
   "source": [
    "Server process : Whenever a python program starts, a server process is also started. From there on, whenever a new process is needed, the parent process connects to the server and requests it to fork a new process.\n",
    "A server process can hold Python objects and allows other processes to manipulate them using proxies.\n",
    "multiprocessing module provides a Manager class which controls a server process. Hence, managers provide a way to create data which can be shared between different processes."
   ]
  },
  {
   "cell_type": "code",
   "execution_count": 8,
   "metadata": {},
   "outputs": [
    {
     "name": "stdout",
     "output_type": "stream",
     "text": [
      "New record added!\n",
      "\n",
      "Name: Sam\n",
      "Score: 10\n",
      "\n",
      "Name: Adam\n",
      "Score: 9\n",
      "\n",
      "Name: Kevin\n",
      "Score: 9\n",
      "\n",
      "Name: Jeff\n",
      "Score: 8\n",
      "\n"
     ]
    }
   ],
   "source": [
    "import multiprocessing \n",
    "  \n",
    "def print_records(records): \n",
    "    \"\"\" \n",
    "    function to print record(tuples) in records(list) \n",
    "    \"\"\"\n",
    "    for record in records: \n",
    "        print(\"Name: {0}\\nScore: {1}\\n\".format(record[0], record[1])) \n",
    "  \n",
    "def insert_record(record, records): \n",
    "    \"\"\" \n",
    "    function to add a new record to records(list) \n",
    "    \"\"\"\n",
    "    records.append(record) \n",
    "    print(\"New record added!\\n\") \n",
    "  \n",
    "if __name__ == '__main__': \n",
    "    with multiprocessing.Manager() as manager: \n",
    "        # creating a list in server process memory \n",
    "        records = manager.list([('Sam', 10), ('Adam', 9), ('Kevin',9)]) \n",
    "        # new record to be inserted in records \n",
    "        new_record = ('Jeff', 8) \n",
    "  \n",
    "        # creating new processes \n",
    "        p1 = multiprocessing.Process(target=insert_record, args=(new_record, records)) \n",
    "        p2 = multiprocessing.Process(target=print_records, args=(records,)) \n",
    "  \n",
    "        # running process p1 to insert new record \n",
    "        p1.start() \n",
    "        p1.join() \n",
    "  \n",
    "        # running process p2 to print records \n",
    "        p2.start() \n",
    "        p2.join() "
   ]
  },
  {
   "cell_type": "code",
   "execution_count": null,
   "metadata": {},
   "outputs": [],
   "source": []
  }
 ],
 "metadata": {
  "kernelspec": {
   "display_name": "Python 2",
   "language": "python",
   "name": "python2"
  },
  "language_info": {
   "codemirror_mode": {
    "name": "ipython",
    "version": 2
   },
   "file_extension": ".py",
   "mimetype": "text/x-python",
   "name": "python",
   "nbconvert_exporter": "python",
   "pygments_lexer": "ipython2",
   "version": "2.7.15"
  }
 },
 "nbformat": 4,
 "nbformat_minor": 2
}
